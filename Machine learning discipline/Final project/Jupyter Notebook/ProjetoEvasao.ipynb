{
 "cells": [
  {
   "cell_type": "markdown",
   "metadata": {},
   "source": [
    "# Predição de evasão no ensino superior\n",
    "#### Obs.: dataset de caso analogo de aprovação no ensino médio"
   ]
  },
  {
   "cell_type": "code",
   "execution_count": 1,
   "metadata": {
    "scrolled": true
   },
   "outputs": [],
   "source": [
    "import numpy as np\n",
    "import pandas as pd\n",
    "from sklearn.metrics import f1_score\n",
    "from sklearn.model_selection import train_test_split\n",
    "from sklearn.utils import shuffle"
   ]
  },
  {
   "cell_type": "markdown",
   "metadata": {},
   "source": [
    "### Carregando datase"
   ]
  },
  {
   "cell_type": "code",
   "execution_count": 2,
   "metadata": {},
   "outputs": [
    {
     "name": "stdout",
     "output_type": "stream",
     "text": [
      "Dados carregados com sucesso!\n"
     ]
    }
   ],
   "source": [
    "dados_estudantes = pd.read_csv(\"student-data.csv\")\n",
    "print(\"Dados carregados com sucesso!\")"
   ]
  },
  {
   "cell_type": "code",
   "execution_count": 3,
   "metadata": {},
   "outputs": [
    {
     "name": "stdout",
     "output_type": "stream",
     "text": [
      "Número de estudantes: 395\n",
      "Número de features: 31\n",
      "Número de estudantes aprovados: 265\n",
      "Número de estudantes reprovados: 130\n",
      "Indice de aprovação: 67.09%\n"
     ]
    }
   ],
   "source": [
    "n_estudantes, n_features = dados_estudantes.shape\n",
    "n_passed, _ = dados_estudantes[dados_estudantes['passed'] == 'yes'].shape\n",
    "n_failed, _ = dados_estudantes[dados_estudantes['passed'] == 'no'].shape\n",
    "indice_aprovacao = (n_passed / n_estudantes) * 100\n",
    "\n",
    "print(\"Número de estudantes: {}\".format(n_estudantes))\n",
    "print(\"Número de features: {}\".format(n_features))\n",
    "print(\"Número de estudantes aprovados: {}\".format(n_passed))\n",
    "print(\"Número de estudantes reprovados: {}\".format(n_failed))\n",
    "print(\"Indice de aprovação: {:.2f}%\".format(indice_aprovacao))"
   ]
  },
  {
   "cell_type": "markdown",
   "metadata": {},
   "source": [
    "### F1 score"
   ]
  },
  {
   "cell_type": "code",
   "execution_count": 4,
   "metadata": {},
   "outputs": [
    {
     "name": "stdout",
     "output_type": "stream",
     "text": [
      "F1 score: 0.8030\n"
     ]
    }
   ],
   "source": [
    "y_pred = ['yes']*n_estudantes\n",
    "y_true = ['yes']*n_passed + ['no']*n_failed\n",
    "score = f1_score(y_true, y_pred, pos_label='yes', average='binary')\n",
    "\n",
    "print(\"F1 score: {:.4f}\".format(score))"
   ]
  },
  {
   "cell_type": "markdown",
   "metadata": {},
   "source": [
    "### Arrumando os dados\n",
    "#### Separando atributos de variavéis alvo"
   ]
  },
  {
   "cell_type": "code",
   "execution_count": 5,
   "metadata": {},
   "outputs": [
    {
     "name": "stdout",
     "output_type": "stream",
     "text": [
      "Colunas de atributos:\n",
      "['school', 'sex', 'age', 'address', 'famsize', 'Pstatus', 'Medu', 'Fedu', 'Mjob', 'Fjob', 'reason', 'guardian', 'traveltime', 'studytime', 'failures', 'schoolsup', 'famsup', 'paid', 'activities', 'nursery', 'higher', 'internet', 'romantic', 'famrel', 'freetime', 'goout', 'Dalc', 'Walc', 'health', 'absences']\n",
      "\n",
      "Coluna-alvo: passed\n"
     ]
    }
   ],
   "source": [
    "feature_cols = list(dados_estudantes.columns[:-1])\n",
    "target_cols = dados_estudantes.columns[-1] \n",
    "\n",
    "print(\"Colunas de atributos:\\n{}\".format(feature_cols))\n",
    "print(\"\\nColuna-alvo: {}\".format(target_cols))\n",
    "\n",
    "X_all = dados_estudantes[feature_cols]\n",
    "y_all = dados_estudantes[target_cols]"
   ]
  },
  {
   "cell_type": "markdown",
   "metadata": {},
   "source": [
    "#### Pré processamento de dados estudantis\n",
    " * Não numericos -> binários\n",
    " * Categorico    -> Variavéis Dummy"
   ]
  },
  {
   "cell_type": "code",
   "execution_count": 6,
   "metadata": {},
   "outputs": [
    {
     "name": "stdout",
     "output_type": "stream",
     "text": [
      "48 features processadas:\n",
      "Tendo como resultantes:\n",
      "\n",
      "['school_GP', 'school_MS', 'sex_F', 'sex_M', 'age', 'address_R', 'address_U', 'famsize_GT3', 'famsize_LE3', 'Pstatus_A', 'Pstatus_T', 'Medu', 'Fedu', 'Mjob_at_home', 'Mjob_health', 'Mjob_other', 'Mjob_services', 'Mjob_teacher', 'Fjob_at_home', 'Fjob_health', 'Fjob_other', 'Fjob_services', 'Fjob_teacher', 'reason_course', 'reason_home', 'reason_other', 'reason_reputation', 'guardian_father', 'guardian_mother', 'guardian_other', 'traveltime', 'studytime', 'failures', 'schoolsup', 'famsup', 'paid', 'activities', 'nursery', 'higher', 'internet', 'romantic', 'famrel', 'freetime', 'goout', 'Dalc', 'Walc', 'health', 'absences']\n"
     ]
    }
   ],
   "source": [
    "def preprocess_features(X):\n",
    "    \n",
    "    output = pd.DataFrame(index = X.index)\n",
    "    for col, col_data in X.iteritems():\n",
    " \n",
    "        if col_data.dtype == object:\n",
    "            col_data = col_data.replace(['yes', 'no'], [1, 0])\n",
    "    \n",
    "        if col_data.dtype == object:\n",
    "            col_data = pd.get_dummies(col_data, prefix = col)  \n",
    "        \n",
    "        output = output.join(col_data)\n",
    "    \n",
    "    return output\n",
    "\n",
    "X_all = preprocess_features(X_all)\n",
    "print(\"{} features processadas:\\nTendo como resultantes:\\n\\n{}\".format(len(X_all.columns), list(X_all.columns)))"
   ]
  },
  {
   "cell_type": "markdown",
   "metadata": {},
   "source": [
    "### Divisão de treinamento e de teste"
   ]
  },
  {
   "cell_type": "code",
   "execution_count": 7,
   "metadata": {},
   "outputs": [
    {
     "name": "stdout",
     "output_type": "stream",
     "text": [
      "O conjunto de treinamento tem 300 amostras.\n",
      "O conjunto de teste tem 95 amostras.\n",
      "\n",
      "Verificando balanceamento:\n",
      "Indice de aprovação no conjunto de treinamento: 67.00%\n",
      "Indice de aprovação no conjunto de teste:       67.37%\n"
     ]
    }
   ],
   "source": [
    "X_all, y_all = shuffle(X_all, y_all, random_state=42)\n",
    "X_train, X_test, y_train, y_test = train_test_split(X_all, y_all, stratify=y_all, test_size=0.24, random_state=42)\n",
    "\n",
    "\n",
    "print(\"O conjunto de treinamento tem {} amostras.\".format(X_train.shape[0]))\n",
    "print(\"O conjunto de teste tem {} amostras.\".format(X_test.shape[0]))\n",
    "\n",
    "print(\"\\nVerificando balanceamento:\")\n",
    "print(\"Indice de aprovação no conjunto de treinamento: {:.2f}%\".format(100 * (y_train == 'yes').mean()))\n",
    "print(\"Indice de aprovação no conjunto de teste:       {:.2f}%\".format(100 * (y_test == 'yes').mean()))"
   ]
  },
  {
   "cell_type": "code",
   "execution_count": null,
   "metadata": {},
   "outputs": [],
   "source": []
  }
 ],
 "metadata": {
  "kernelspec": {
   "display_name": "Python 3",
   "language": "python",
   "name": "python3"
  },
  "language_info": {
   "codemirror_mode": {
    "name": "ipython",
    "version": 3
   },
   "file_extension": ".py",
   "mimetype": "text/x-python",
   "name": "python",
   "nbconvert_exporter": "python",
   "pygments_lexer": "ipython3",
   "version": "3.6.4"
  }
 },
 "nbformat": 4,
 "nbformat_minor": 2
}
